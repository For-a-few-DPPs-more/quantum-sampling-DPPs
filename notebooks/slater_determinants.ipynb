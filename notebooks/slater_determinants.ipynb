{
 "cells": [
  {
   "cell_type": "code",
   "execution_count": null,
   "metadata": {},
   "outputs": [],
   "source": [
    "# import sys\n",
    "#!{sys.executable} -m pip install qiskit\n",
    "#!{sys.executable} -m pip install qiskit-nature"
   ]
  },
  {
   "cell_type": "code",
   "execution_count": null,
   "metadata": {},
   "outputs": [],
   "source": [
    "from sys import path as syspath\n",
    "from os import path as ospath\n",
    "# /!\\ import here https://github.com/mrfanuel/qiskit-nature"
   ]
  },
  {
   "cell_type": "code",
   "execution_count": null,
   "metadata": {},
   "outputs": [],
   "source": [
    "import numpy as np\n",
    "import qiskit as qk\n",
    "import matplotlib.pyplot as plt\n",
    "import seaborn as sns\n",
    "#from qiskit_nature.second_q.hamiltonians import QuadraticHamiltonian\n",
    "\n",
    "from qiskit_nature.second_q.circuit.library import SlaterDeterminant\n",
    "import utilities\n",
    "import pandas as pd\n",
    "\n",
    "plt.rcParams.update({\n",
    "    \"text.usetex\": True,\n",
    "    \"font.family\": \"Helvetica\"\n",
    "})\n",
    "\n",
    "%load_ext autoreload\n",
    "%autoreload 2"
   ]
  },
  {
   "cell_type": "code",
   "execution_count": null,
   "metadata": {},
   "outputs": [],
   "source": [
    "# We are going to sample from a projection DPP of rank k, with a ground set of size N\n",
    "N = 5\n",
    "k = 3\n",
    "seed = 1\n",
    "np.random.seed(seed)\n",
    "Q, _ = np.linalg.qr(np.random.randn(N, N))\n",
    "W = Q[:k,:]\n",
    "K = W.T @ W # the DPP kernel\n",
    "\n",
    "vmin = -1\n",
    "vmax = 1\n",
    "fig, ax = plt.subplots(1, 1)\n",
    "cmap_str = \"bwr\"\n",
    "im = ax.matshow(K, cmap=cmap_str, vmin=vmin, vmax=vmax)\n",
    "cbar = fig.colorbar(im, ax=ax)\n",
    "plt.xticks(fontsize=20)\n",
    "plt.yticks(fontsize=20)\n",
    "cbar.ax.tick_params(labelsize=18)\n",
    "plt.savefig(\"../fig/dpp1_kernel.pdf\")\n",
    "plt.show()"
   ]
  },
  {
   "cell_type": "code",
   "execution_count": null,
   "metadata": {},
   "outputs": [],
   "source": [
    "# Create the circuit using parallel QR as in [Jiang et al. 08]\n",
    "circuit = SlaterDeterminant(W)\n",
    "\n",
    "# Add measurements\n",
    "meas = qk.QuantumCircuit(N, N) # N qubits, N classical bits\n",
    "meas.barrier(range(N)) # the barrier is optional, it is an instruction for the later transpiler\n",
    "meas.measure(range(N), range(N)) # perform the measurement, record it in the classical bits\n",
    "circuit.add_register(meas.cregs[0])\n",
    "qc = circuit.compose(meas)\n",
    "\n",
    "# Draw the circuit\n",
    "qc.draw(\n",
    "    output=\"mpl\", \n",
    "    filename=\"../fig/example_circuit.pdf\"\n",
    ")"
   ]
  },
  {
   "cell_type": "code",
   "execution_count": null,
   "metadata": {},
   "outputs": [],
   "source": [
    "# Import Aer and set the backend simulator\n",
    "from qiskit import Aer\n",
    "backend_sim = Aer.get_backend('qasm_simulator')\n",
    "\n",
    "# Execute the circuit on the qasm simulator, we do several repeats to get \n",
    "# the distribution of the TV between the empirical measure and the underlying DPP.\n",
    "tv_distances = []\n",
    "num_repeats = 1000\n",
    "num_shots = 20000\n",
    "for _ in range(num_repeats):\n",
    "    job_sim = backend_sim.run(\n",
    "        qk.transpile(qc, backend_sim), \n",
    "        shots=num_shots\n",
    "    )\n",
    "    result_sim = job_sim.result()\n",
    "    counts = result_sim.get_counts(qc)\n",
    "    proba, proba_estimated = utilities.get_estimated_probabilities(K, counts, num_shots, N)\n",
    "    tv_distances.append(\n",
    "        0.5*np.sum([np.abs(proba[key]-proba_estimated[key]) for key in proba])\n",
    "    )"
   ]
  },
  {
   "cell_type": "code",
   "execution_count": null,
   "metadata": {},
   "outputs": [],
   "source": [
    "plt.hist(tv_distances)\n",
    "plt.xticks(fontsize=20)\n",
    "plt.xticks([0.002, 0.006, 0.010, 0.014])\n",
    "plt.yticks(fontsize=20)\n",
    "plt.xticks()\n",
    "plt.savefig(\"../fig/dpp1_tv.pdf\")\n",
    "plt.show()"
   ]
  },
  {
   "cell_type": "code",
   "execution_count": null,
   "metadata": {},
   "outputs": [],
   "source": [
    "# Let us store the expected and estimated frequencies in a dataframe, \n",
    "# which we will complete later on with actual samples from IBMQ machines.\n",
    "proba_series = pd.Series(proba.values(), index=list(proba.keys()), name=\"true\")\n",
    "proba_estimated_series = pd.Series(proba_estimated.values(), index=list(proba_estimated.keys()), name=\"simulator\")\n",
    "proba_series.index.name = \"outcome\"\n",
    "proba_estimated_series.index.name = \"outcome\"\n",
    "df = pd.merge(proba_series, proba_estimated_series, on=\"outcome\")\n",
    "df.plot.bar()"
   ]
  },
  {
   "attachments": {},
   "cell_type": "markdown",
   "metadata": {},
   "source": [
    "## Playing with runtime service"
   ]
  },
  {
   "cell_type": "code",
   "execution_count": null,
   "metadata": {},
   "outputs": [],
   "source": [
    "from qiskit import IBMQ\n",
    "#IBMQ.save_account(token=\"d49116c77d3da82726511afa9ee1151af8904a0a5bdd3a011fb2dd4c08a3d564aa02eae1fecae56400bc169a51ceb9ec65955372b2820f5b726b4613f99bfb3a\")\n",
    "IBMQ.load_account()\n",
    "IBMQ.providers()"
   ]
  },
  {
   "cell_type": "code",
   "execution_count": null,
   "metadata": {},
   "outputs": [],
   "source": [
    "from qiskit.providers.ibmq import least_busy\n",
    "\n",
    "provider = IBMQ.get_provider(hub='ibm-q')\n",
    "small_devices = provider.backends(filters=lambda x: x.configuration().n_qubits == 5\n",
    "                                   and not x.configuration().simulator)\n",
    "print(small_devices)\n",
    "print(\"Of which the least busy is\")\n",
    "least_busy(small_devices)"
   ]
  },
  {
   "cell_type": "code",
   "execution_count": null,
   "metadata": {},
   "outputs": [],
   "source": [
    "backend = small_devices[-1]\n",
    "print(backend)"
   ]
  },
  {
   "cell_type": "code",
   "execution_count": null,
   "metadata": {},
   "outputs": [],
   "source": [
    "num_shots = int(20000) \n",
    "job = backend.run(\n",
    "    qk.transpile(qc, backend), \n",
    "    shots=num_shots\n",
    ")"
   ]
  },
  {
   "cell_type": "code",
   "execution_count": null,
   "metadata": {},
   "outputs": [],
   "source": [
    "print(job.status())\n",
    "print(job.job_id())\n"
   ]
  },
  {
   "cell_type": "code",
   "execution_count": null,
   "metadata": {},
   "outputs": [],
   "source": [
    "# Looking at results for seed=1\n",
    "jobnames = {\"manila\": \"ch8eagrmre35qqp33dt0\", \"quito\": \"ch8erepccmlc5k952hog\", \"lima\": \"ch97r24rpl4d0vo0iltg\"}\n",
    "df_results = df.copy()\n",
    "for machine, jobid in jobnames.items():\n",
    "    series = utilities.load_ibm_result_csv_file(file_name=\"data/\"+jobid+\"_histogram.csv\", column_name=machine, num_shots=num_shots)\n",
    "    df_results = df_results.join(series, on=\"outcome\")\n",
    "    print(df_results[machine].sum())\n",
    "    \n",
    "df_results.describe()"
   ]
  },
  {
   "cell_type": "code",
   "execution_count": null,
   "metadata": {},
   "outputs": [],
   "source": [
    "fig, ax = plt.subplots(1,1,figsize=((14,5)))\n",
    "df_results.plot.bar(ax=ax,width=.8)\n",
    "plt.tight_layout()\n",
    "plt.savefig(\"../fig/dpp1_results.pdf\")\n",
    "plt.show()"
   ]
  },
  {
   "cell_type": "code",
   "execution_count": null,
   "metadata": {},
   "outputs": [],
   "source": [
    "# chi-squared statistics would be infinite, so we rather check the TV and compare it to its distribution under the null\n",
    "for machine in jobnames:\n",
    "    tv = 0.5*np.sum( np.abs(df_results[\"true\"]-df_results[machine]) )\n",
    "    print(machine, tv)"
   ]
  },
  {
   "cell_type": "code",
   "execution_count": null,
   "metadata": {},
   "outputs": [],
   "source": []
  }
 ],
 "metadata": {
  "kernelspec": {
   "display_name": "Python 3.9.4 ('py39')",
   "language": "python",
   "name": "python3"
  },
  "language_info": {
   "codemirror_mode": {
    "name": "ipython",
    "version": 3
   },
   "file_extension": ".py",
   "mimetype": "text/x-python",
   "name": "python",
   "nbconvert_exporter": "python",
   "pygments_lexer": "ipython3",
   "version": "3.8.2"
  },
  "orig_nbformat": 4,
  "vscode": {
   "interpreter": {
    "hash": "684848f1e3cb27e9bc867999021fada6d3660dd7c85e268e32754ebef81555d9"
   }
  }
 },
 "nbformat": 4,
 "nbformat_minor": 2
}
