{
 "cells": [
  {
   "cell_type": "code",
   "execution_count": null,
   "metadata": {},
   "outputs": [],
   "source": [
    "# import sys\n",
    "#!{sys.executable} -m pip install qiskit\n",
    "#!{sys.executable} -m pip install qiskit-nature"
   ]
  },
  {
   "cell_type": "code",
   "execution_count": null,
   "metadata": {},
   "outputs": [],
   "source": [
    "%load_ext autoreload\n",
    "%autoreload 2\n",
    "from pfapack import pfaffian as pf\n",
    "\n",
    "from sys import path as syspath\n",
    "from os import path as ospath\n",
    "# /!\\ import here https://github.com/mrfanuel/qiskit-nature\n"
   ]
  },
  {
   "cell_type": "code",
   "execution_count": null,
   "metadata": {},
   "outputs": [],
   "source": [
    "import numpy as np\n",
    "from numpy import linalg as LA\n",
    "\n",
    "import matplotlib.pyplot as plt\n",
    "\n",
    "import qiskit as qk\n",
    "from qiskit_nature.second_q.hamiltonians import QuadraticHamiltonian\n",
    "from qiskit_nature.second_q.circuit.library import FermionicGaussianState\n",
    "from qiskit import Aer\n",
    "import utilities\n",
    "import pandas as pd"
   ]
  },
  {
   "attachments": {},
   "cell_type": "markdown",
   "metadata": {},
   "source": [
    "Definition of the Hamiltonian quadratic form"
   ]
  },
  {
   "cell_type": "code",
   "execution_count": null,
   "metadata": {},
   "outputs": [],
   "source": [
    "# create Hamiltonian quadratic form\n",
    "hermitian_part = (-1)*np.array(\n",
    "    [\n",
    "        [1.0, 0.5, 0.2, 0.2, 0.2],\n",
    "        [0.5, 1.0, 0.5, 0.2, 0.2],\n",
    "        [0.2, 0.5, 1.0, 0.5, 0.2],\n",
    "        [0.2, 0.2, 0.5, 1.0, 0.5],\n",
    "        [0.2, 0.2, 0.2, 0.5, 1.0],\n",
    "    ]\n",
    ")\n",
    "# create Hamiltonian quadratic form\n",
    "hermitian_part = (-1)*np.array(\n",
    "    [\n",
    "        [1.0, 0.5, 0.2, 0.2, 0.2],\n",
    "        [0.5, 1.0, 0.5, 0.2, 0.2],\n",
    "        [0.2, 0.5, 1.0, 0.5, 0.2],\n",
    "        [0.2, 0.2, 0.5, 1.0, 0.5],\n",
    "        [0.2, 0.2, 0.2, 0.5, 1.0],\n",
    "    ]\n",
    ")\n",
    "# Note the extra minus to match paper's convention\n",
    "\n",
    "N = hermitian_part.shape[0]\n",
    "\n",
    "antisymmetric_part = (-1)*np.array(\n",
    "    [\n",
    "        [0.0, 1.0, 0.0, 0.0, 0.0],\n",
    "        [-1.0, 0.0, 1.0, 0.0, 0.0],\n",
    "        [0.0, -1.0, 0.0, 1.0, 0.0],\n",
    "        [0.0, 0.0, -1.0, 0.0, 1.0],\n",
    "        [0.0, 0.0, 0.0, -1.0, 0.0],\n",
    "    ]\n",
    ")\n",
    "# Note the extra minus to match paper's convention\n",
    "\n",
    "# Hamiltonian quadratic form in the paper is H_BdG\n",
    "# where H_BdG = C H_code \n",
    "# with H_code being the Hamiltonian quadratic form in the code\n",
    "H_code = np.block([\n",
    "    [hermitian_part,antisymmetric_part],\n",
    "    [-antisymmetric_part.conj(), -hermitian_part.conj()]\n",
    "])\n",
    "# The only difference is a flip of the first and second rows of blocks.\n",
    "# The operator in the paper is \n",
    "#   (c c^*) H_BdG (c^*\\\\ c) \n",
    "# and it is equal to the operator in the code\n",
    "#   (c^* c) H_code (c^*\\\\ c)\n",
    "\n",
    "# plotting\n",
    "fig, ax = plt.subplots(1, 2)\n",
    "vmin = -1\n",
    "vmax = 1\n",
    "cmap_str = \"binary\"\n",
    "\n",
    "ax[0].matshow(-hermitian_part, cmap=cmap_str, vmin=vmin, vmax=vmax)\n",
    "# minus sign to match the paper convention\n",
    "ax[0].set_title(\"Hermitean part\")\n",
    "\n",
    "im = ax[1].matshow(-antisymmetric_part, cmap=cmap_str, vmin=vmin, vmax=vmax)\n",
    "# minus sign to match the paper convention\n",
    "ax[1].set_title(\"Skew part\")\n",
    "fig.colorbar(im, ax=ax.ravel().tolist(), shrink=0.7)\n",
    "plt.savefig('../fig/pfpp_M_Delta.pdf', bbox_inches='tight')\n",
    "plt.show()"
   ]
  },
  {
   "attachments": {},
   "cell_type": "markdown",
   "metadata": {},
   "source": [
    "Decomposition of the Hamiltonian quadratic form"
   ]
  },
  {
   "cell_type": "code",
   "execution_count": null,
   "metadata": {},
   "outputs": [],
   "source": [
    "constant = 0.0\n",
    "hamiltonian = QuadraticHamiltonian(\n",
    "    hermitian_part=hermitian_part,\n",
    "    antisymmetric_part=antisymmetric_part,\n",
    "    constant=constant,\n",
    ")\n",
    "# get the transformation matrix W and orbital energies {epsilon_j}\n",
    "(\n",
    "    transformation_matrix,\n",
    "    orbital_energies,\n",
    "    transformed_constant,\n",
    ") = hamiltonian.diagonalizing_bogoliubov_transform()\n",
    "\n",
    "# transformation_matrix is the first row of the W matrix\n",
    "print(f\"Shape of transformation_matrix: {transformation_matrix.shape}\")\n",
    "print(f\"Transformed constant: {transformed_constant}\")\n",
    "print(f\"Eigenvalues: {orbital_energies}\")"
   ]
  },
  {
   "attachments": {},
   "cell_type": "markdown",
   "metadata": {},
   "source": [
    "Testing the decomposition of the Hamltonian matrix"
   ]
  },
  {
   "cell_type": "code",
   "execution_count": null,
   "metadata": {},
   "outputs": [],
   "source": [
    "# construct full W from its first row of blocks\n",
    "W_up = transformation_matrix\n",
    "W_1 = W_up[:, :N]\n",
    "W_2 = W_up[:, N:]\n",
    "\n",
    "W_down = np.block([\n",
    "    [W_2.conj(),W_1.conj()]\n",
    "])\n",
    "W = np.block([\n",
    "    [W_up],\n",
    "    [W_down]\n",
    "])\n",
    "\n",
    "# diagonal with energies\n",
    "Dplus = np.diag(orbital_energies)\n",
    "\n",
    "Z = np.zeros_like(Dplus)\n",
    "D = np.block([\n",
    "    [Dplus,Z],\n",
    "    [Z, -Dplus]\n",
    "])\n",
    "\n",
    "H_code_factorized = np.dot(W.conj().T , np.dot(D , W)) \n",
    "print(f\"diagonalization: | H - W^* D W | = {LA.norm(H_code_factorized - H_code)}\")\n",
    "print(f\"unitarity: | I - W^*  W | = {LA.norm(np.dot(W.conj().T ,W) - np.eye(2*N))}\")\n"
   ]
  },
  {
   "attachments": {},
   "cell_type": "markdown",
   "metadata": {},
   "source": [
    "Construction of the Pfaffian kernel"
   ]
  },
  {
   "cell_type": "code",
   "execution_count": null,
   "metadata": {},
   "outputs": [],
   "source": [
    "# we simulate the state b_1^* b_2^* b_3^* |0>\n",
    "\n",
    "#occupied_orbitals = [0,1,2,3] # not an L-ensemble\n",
    "occupied_orbitals = [0,1,2] # L-ensemble\n",
    "#occupied_orbitals = [0,1] # not an L-ensemble\n",
    "\n",
    "# the S matrix corresponds to\n",
    "# <c_i c_j^*> <c_i c_j> \n",
    "# <c_i^* c_j^*> <c_i^* c_j> \n",
    "\n",
    "# Note that the definition of S does not depend of how the Hamiltonian quadratic form was defined\n",
    "\n",
    "# S = W^T Diag(ind_minus, ind_plus) W.conj\n",
    "\n",
    "# construct Diag(ind_minus, ind_plus)\n",
    "ind_plus = np.zeros_like(orbital_energies)\n",
    "\n",
    "for e in list(occupied_orbitals):\n",
    "    ind_plus[e] = 1\n",
    "\n",
    "ind_minus = 1 - ind_plus\n",
    "ind = np.concatenate((ind_minus,ind_plus))\n",
    "d_ind = np.diag(ind)\n",
    "\n",
    "# construct S\n",
    "S = np.dot(W.T,np.dot(d_ind, W.conj()))\n",
    "# S = [I-K^T P^*\\\\\n",
    "#      P       K]\n",
    "# find the blocks\n",
    "\n",
    "One = np.eye(N)\n",
    "Z = np.zeros_like(One)\n",
    "\n",
    "C = np.block([\n",
    "    [Z, One],\n",
    "    [One ,Z]\n",
    "])\n",
    "\n",
    "print(f\"particle-hole on S: | C*S*C - I + S.conj | = {LA.norm(np.dot(C,np.dot(S,C)) - np.eye(2*N) + S.conj())}\")\n",
    "\n",
    "K = S[N:,N:]\n",
    "P = S[N:,:N]\n",
    "\n",
    "# define matrix with 2-point function off-diag \n",
    "# and 1-point function diag\n",
    "rho_2 = np.zeros_like(K.real)\n",
    "for i in range(N):\n",
    "    for j in range(N):\n",
    "        if i == j:\n",
    "            rho_2[i,i] = np.real(K[i,i])\n",
    "        else:\n",
    "            rho_2[i,j] = np.real(K[i,i] * K[j,j] - K[i,j] * K[i,j].conj() + P[i,j] * P[i,j].conj())"
   ]
  },
  {
   "attachments": {},
   "cell_type": "markdown",
   "metadata": {},
   "source": [
    "Pfaffian kernel\n"
   ]
  },
  {
   "cell_type": "code",
   "execution_count": null,
   "metadata": {},
   "outputs": [],
   "source": [
    "pfK = np.zeros((2*N,2*N), dtype=complex)\n",
    "for i in range(N):\n",
    "    for j in range(N):\n",
    "        pfK[2*i,2*j] = P[i,j]\n",
    "        pfK[2*i,2*j + 1] = K[i,j]\n",
    "        pfK[2*i + 1,2*j] = -K[j,i]\n",
    "        pfK[2*i + 1,2*j + 1] = -P[i,j].conj()\n",
    "        \n",
    "J = np.zeros((2*N,2*N), dtype=complex)\n",
    "for i in range(N):\n",
    "    J[2*i,2*i + 1] = 1\n",
    "    J[2*i + 1,2*i] = -1\n",
    "\n",
    "\n",
    "print(f\"cond nb of pfK-J: = {LA.cond(pfK-J)}\")\n",
    "print(f\"testing invertibility of pfK-J: | (pfK-J)*(pfK-J)^{-1} - I | = {LA.norm(np.eye(2*N) - np.dot(pfK-J,LA.inv(pfK-J)))}\")\n",
    "\n",
    "# Likelihood matrix\n",
    "L = LA.inv(pfK-J) - J\n",
    "L = 0.5*(L - L.T) \n"
   ]
  },
  {
   "attachments": {},
   "cell_type": "markdown",
   "metadata": {},
   "source": [
    "plotting K and P kernels"
   ]
  },
  {
   "cell_type": "code",
   "execution_count": null,
   "metadata": {},
   "outputs": [],
   "source": [
    "fig, ax = plt.subplots(1, 2)\n",
    "vmin = -0.5\n",
    "vmax = 1\n",
    "cmap_str = \"binary\"\n",
    "\n",
    "ax[0].matshow(K.real, cmap=cmap_str, vmin=vmin, vmax=vmax)\n",
    "ax[0].set_title(\"K\")\n",
    "\n",
    "im = ax[1].matshow(P.real, cmap=cmap_str, vmin=vmin, vmax=vmax)\n",
    "ax[1].set_title(\"P\")\n",
    "fig.colorbar(im, ax=ax.ravel().tolist(), shrink=0.7)\n",
    "\n",
    "plt.savefig('../fig/pfpp_K_P.pdf', bbox_inches='tight')\n",
    "plt.show()"
   ]
  },
  {
   "attachments": {},
   "cell_type": "markdown",
   "metadata": {},
   "source": [
    "define the circuit"
   ]
  },
  {
   "cell_type": "code",
   "execution_count": null,
   "metadata": {},
   "outputs": [],
   "source": [
    "circuit = FermionicGaussianState(transformation_matrix, occupied_orbitals=occupied_orbitals)\n",
    "circuit.draw(\"mpl\")\n",
    "# Add measurements\n",
    "meas = qk.QuantumCircuit(N, N) # N qubits, N classical bits\n",
    "meas.barrier(range(N)) # the barrier is optional, it is an instruction for the later transpiler\n",
    "meas.measure(range(N), range(N)) # perform the measurement, record it in the classical bits\n",
    "circuit.add_register(meas.cregs[0])\n",
    "qc = circuit.compose(meas)\n",
    "# Draw the circuit\n",
    "qc.draw(\n",
    "    output=\"mpl\", \n",
    "    #filename=\"../fig/example_circuit.pdf\"\n",
    ")"
   ]
  },
  {
   "attachments": {},
   "cell_type": "markdown",
   "metadata": {},
   "source": [
    "sample from the circuit"
   ]
  },
  {
   "cell_type": "code",
   "execution_count": null,
   "metadata": {},
   "outputs": [],
   "source": [
    "# Import Aer and set the backend simulator\n",
    "backend_sim = Aer.get_backend('qasm_simulator')\n",
    "\n",
    "# Execute the circuit on the qasm simulator.\n",
    "num_shots = 1000\n",
    "job_sim = backend_sim.run(\n",
    "    qk.transpile(qc, backend_sim), \n",
    "    shots=num_shots\n",
    ")\n",
    "# Grab the results from the job.\n",
    "result_sim = job_sim.result()\n",
    "counts = result_sim.get_counts(qc)"
   ]
  },
  {
   "attachments": {},
   "cell_type": "markdown",
   "metadata": {},
   "source": [
    "Estimation of the 1-point and 2-point correlation functions"
   ]
  },
  {
   "cell_type": "code",
   "execution_count": null,
   "metadata": {},
   "outputs": [],
   "source": [
    "utilities.plot_results(counts,rho_2,num_shots)"
   ]
  },
  {
   "cell_type": "code",
   "execution_count": null,
   "metadata": {},
   "outputs": [],
   "source": [
    "# Import Aer and set the backend simulator\n",
    "from qiskit import Aer\n",
    "backend_sim = Aer.get_backend('qasm_simulator')\n",
    "\n",
    "# Execute the circuit on the qasm simulator, we do several repeats to get \n",
    "# the distribution of the TV between the empirical measure and the underlying DPP.\n",
    "tv_distances = []\n",
    "num_repeats = 1000\n",
    "num_shots = 20000\n",
    "for _ in range(num_repeats):\n",
    "    \n",
    "    job_sim = backend_sim.run(\n",
    "        qk.transpile(qc, backend_sim), \n",
    "        shots=num_shots\n",
    "    )\n",
    "    result_sim = job_sim.result()\n",
    "    counts = result_sim.get_counts(qc)\n",
    "    proba, proba_estimated = utilities.get_estimated_probabilities_pfaffian(L,J, counts, num_shots, N)\n",
    "    tv_distances.append(\n",
    "        0.5*np.sum([np.abs(proba[key]-proba_estimated[key]) for key in proba])\n",
    "    )"
   ]
  },
  {
   "cell_type": "code",
   "execution_count": null,
   "metadata": {},
   "outputs": [],
   "source": [
    "# Let us store the expected and estimated frequencies in a dataframe, \n",
    "# which we will complete later on with actual samples from IBMQ machines.\n",
    "proba_series = pd.Series(proba.values(), index=list(proba.keys()), name=\"true\")\n",
    "proba_estimated_series = pd.Series(proba_estimated.values(), index=list(proba_estimated.keys()), name=\"simulator\")\n",
    "proba_series.index.name = \"outcome\"\n",
    "proba_estimated_series.index.name = \"outcome\"\n",
    "df = pd.merge(proba_series, proba_estimated_series, on=\"outcome\")\n",
    "#df.plot.bar()\n",
    "fig = df.plot(kind='bar').get_figure()\n",
    "fig.savefig(\"../fig/pfpp1_results.pdf\", bbox_inches = 'tight')"
   ]
  },
  {
   "cell_type": "code",
   "execution_count": null,
   "metadata": {},
   "outputs": [],
   "source": [
    "plt.hist(tv_distances)\n",
    "plt.xticks(fontsize=20)\n",
    "plt.xticks([0.002, 0.006, 0.010, 0.014])\n",
    "plt.yticks(fontsize=20)\n",
    "plt.xticks()\n",
    "plt.savefig(\"../fig/pfpp1_tv.pdf\")\n",
    "plt.show()"
   ]
  },
  {
   "cell_type": "code",
   "execution_count": null,
   "metadata": {},
   "outputs": [],
   "source": []
  }
 ],
 "metadata": {
  "kernelspec": {
   "display_name": "Python 3",
   "language": "python",
   "name": "python3"
  },
  "language_info": {
   "codemirror_mode": {
    "name": "ipython",
    "version": 3
   },
   "file_extension": ".py",
   "mimetype": "text/x-python",
   "name": "python",
   "nbconvert_exporter": "python",
   "pygments_lexer": "ipython3",
   "version": "3.8.2"
  },
  "orig_nbformat": 4,
  "vscode": {
   "interpreter": {
    "hash": "31f2aee4e71d21fbe5cf8b01ff0e069b9275f58929596ceb00d14d90e3e16cd6"
   }
  }
 },
 "nbformat": 4,
 "nbformat_minor": 2
}
